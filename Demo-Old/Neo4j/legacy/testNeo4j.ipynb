{
 "cells": [
  {
   "cell_type": "code",
   "execution_count": 1,
   "metadata": {},
   "outputs": [
    {
     "name": "stdout",
     "output_type": "stream",
     "text": [
      "neo4j+ssc://48a6b976.databases.neo4j.io ('neo4j', 'ZCYOGzR_qltw9Xf4g9p4eqqkFXLDltcd8-MUIK-j1dQ')\n"
     ]
    }
   ],
   "source": [
    "import dotenv\n",
    "import os\n",
    "from neo4j import GraphDatabase\n",
    "\n",
    "os.environ[\"http_proxy\"] = \"http://127.0.0.1:7890\"\n",
    "os.environ[\"https_proxy\"] = \"http://127.0.0.1:7890\"\n",
    "dotenv.load_dotenv(\"Neo4j-48a6b976-Created-2023-12-18.txt\")\n",
    "\n",
    "URI = os.getenv(\"NEO4J_URI\")\n",
    "AUTH = (os.getenv(\"NEO4J_USERNAME\"), os.getenv(\"NEO4J_PASSWORD\"))\n",
    "\n",
    "print(URI,AUTH)\n",
    "with GraphDatabase.driver(URI, auth=AUTH) as driver:\n",
    "    driver.verify_connectivity()\n"
   ]
  },
  {
   "cell_type": "code",
   "execution_count": 3,
   "metadata": {},
   "outputs": [
    {
     "name": "stdout",
     "output_type": "stream",
     "text": [
      "<Record n=<Node element_id='4:de7d2d4c-e255-4d31-b369-2cec3932744a:25' labels=frozenset({'主题'}) properties={'name': '集合'}>>\n",
      "<Record n=<Node element_id='4:de7d2d4c-e255-4d31-b369-2cec3932744a:26' labels=frozenset({'知识点'}) properties={'name': '维恩图'}>>\n"
     ]
    }
   ],
   "source": [
    "with GraphDatabase.driver(URI, auth=AUTH) as driver:\n",
    "    records, summary, keys = driver.execute_query(\n",
    "        \"MATCH (n) RETURN n\",\n",
    "        database_=\"neo4j\",\n",
    "    )\n",
    "\n",
    "    # Loop through results and do something with them\n",
    "    for person in records:\n",
    "        print(person)"
   ]
  }
 ],
 "metadata": {
  "kernelspec": {
   "display_name": "base",
   "language": "python",
   "name": "python3"
  },
  "language_info": {
   "codemirror_mode": {
    "name": "ipython",
    "version": 3
   },
   "file_extension": ".py",
   "mimetype": "text/x-python",
   "name": "python",
   "nbconvert_exporter": "python",
   "pygments_lexer": "ipython3",
   "version": "3.9.7"
  }
 },
 "nbformat": 4,
 "nbformat_minor": 2
}
